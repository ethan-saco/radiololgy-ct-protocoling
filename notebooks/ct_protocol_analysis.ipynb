{
 "cells": [
  {
   "cell_type": "markdown",
   "metadata": {},
   "source": [
    "CT Protocol Automation Analysis\n",
    "\n",
    "This notebook processes patient data and generates automated CT protocols using OpenAI API"
   ]
  },
  {
   "cell_type": "code",
   "execution_count": 1,
   "metadata": {},
   "outputs": [],
   "source": [
    "from src.utils import load_data, get_ct_protocol \n",
    "from src.config import INPUT_DATA_PATH, OUTPUT_DATA_PATH"
   ]
  },
  {
   "cell_type": "code",
   "execution_count": null,
   "metadata": {},
   "outputs": [],
   "source": [
    "df = load_data(INPUT_DATA_PATH)\n",
    "df.head()"
   ]
  },
  {
   "cell_type": "code",
   "execution_count": null,
   "metadata": {},
   "outputs": [],
   "source": [
    "# Process each patient and get CT protocol recommendations\n",
    "protocols = []\n",
    "for idx, row in df.iterrows():\n",
    "    patient_info = row.to_dict()\n",
    "    protocol = get_ct_protocol(patient_info)    \n",
    "    protocols.append(protocol)\n",
    "# Add protocols to dataframe\n",
    "df['recommended_protocol'] = protocols\n",
    "# Save results\n",
    "df.to_csv(OUTPUT_DATA_PATH, index=False)"
   ]
  },
  {
   "cell_type": "code",
   "execution_count": null,
   "metadata": {},
   "outputs": [],
   "source": []
  }
 ],
 "metadata": {
  "kernelspec": {
   "display_name": "Python 3",
   "language": "python",
   "name": "python3"
  },
  "language_info": {
   "codemirror_mode": {
    "name": "ipython",
    "version": 3
   },
   "file_extension": ".py",
   "mimetype": "text/x-python",
   "name": "python",
   "nbconvert_exporter": "python",
   "pygments_lexer": "ipython3",
   "version": "3.11.6"
  }
 },
 "nbformat": 4,
 "nbformat_minor": 2
}
