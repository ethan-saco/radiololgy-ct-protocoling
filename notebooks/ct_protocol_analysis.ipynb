{
 "cells": [
  {
   "cell_type": "markdown",
   "metadata": {},
   "source": [
    "CT Protocol Automation Analysis\n",
    "\n",
    "This notebook processes patient data and generates automated CT protocols using OpenAI API"
   ]
  },
  {
   "cell_type": "code",
   "execution_count": 1,
   "metadata": {},
   "outputs": [],
   "source": [
    "import pandas as pd\n",
    "from utils import load_data, generate_protocol_recommendations\n"
   ]
  },
  {
   "cell_type": "code",
   "execution_count": 2,
   "metadata": {},
   "outputs": [],
   "source": [
    "import os\n",
    "from config import (\n",
    "    INPUT_DATA_PATH, \n",
    "    OUTPUT_DATA_PATH, \n",
    "    OPENAI_API_KEY,\n",
    "    MODEL_NAME\n",
    ")\n",
    "import openai\n",
    "import json\n",
    "from tqdm import tqdm"
   ]
  },
  {
   "cell_type": "code",
   "execution_count": 3,
   "metadata": {},
   "outputs": [],
   "source": [
    "OPENAI_API_KEY = os.getenv('OPENAI_API_KEY')"
   ]
  },
  {
   "cell_type": "code",
   "execution_count": 4,
   "metadata": {},
   "outputs": [
    {
     "name": "stdout",
     "output_type": "stream",
     "text": [
      "Available columns: ['Study ID #', 'Location [IP, ER, OP]', 'Age', 'Sex', 'CT Exam Requested', 'Clinical Information/Reason for Scan', 'Previous adverse reaction to contrast (if YES, what type)', 'eGFR (mL/min)', 'Creatinine (umol/L)']\n",
      "\n",
      "Results:\n",
      "   Priority      Protocol IV_Contrast        Oral_Contrast\n",
      "1         3  Enterography          C+  Other (3% sorbitol)\n",
      "2         2           A/P          C+           Water base\n",
      "3         4        Pelvis          C+                 None\n",
      "4         1           A/P          C+                 None\n",
      "5         3      Liver 3P   C+ and C-                 None\n"
     ]
    }
   ],
   "source": [
    "# Load the data and take first 5 rows, skipping empty columns\n",
    "test_data = pd.read_csv('data/Data-Extraction-Table.csv', encoding='latin-1', skiprows=1, usecols=lambda column: column.strip() != '')\n",
    "\n",
    "# Print column names to see what we're working with\n",
    "print(\"Available columns:\", test_data.columns.tolist())\n",
    "\n",
    "# Now let's process these rows\n",
    "results = []\n",
    "for idx, row in test_data.iterrows():\n",
    "    try:\n",
    "        # Extract eGFR, handle potential missing/invalid values\n",
    "        egfr_value = row.get('eGFR (mL/min)')\n",
    "\n",
    "       # Define no data variants\n",
    "        no_data_variants = [\"no data\", \"No data\", \"NO DATA\", \"No Data\", \"\"]\n",
    "\n",
    "        if pd.isna(egfr_value) or egfr_value in no_data_variants:\n",
    "            egfr = \"no data\"\n",
    "        else:\n",
    "            # Handle \">90\" string case\n",
    "            if isinstance(egfr_value, str) and egfr_value.strip() == \">90\":\n",
    "                egfr = 90\n",
    "            else:\n",
    "                # Convert to float but don't cap values greater than 90\n",
    "                egfr = float(egfr_value)\n",
    "        \n",
    "        # Convert row to dict, excluding NaN values\n",
    "        patient_info = {\n",
    "            'Study_ID': row['Study ID #'],\n",
    "            'Location': row['Location [IP, ER, OP]'],\n",
    "            'Age': row['Age'],\n",
    "            'Sex': row['Sex'],\n",
    "            'CT_Exam': row['CT Exam Requested'],\n",
    "            'Clinical_Info': row['Clinical Information/Reason for Scan'],\n",
    "            'Prior_Reaction': row['Previous adverse reaction to contrast (if YES, what type)'],\n",
    "            'eGFR': egfr,\n",
    "            'Creatinine': row['Creatinine (umol/L)']\n",
    "        }\n",
    "        \n",
    "        # Generate recommendations\n",
    "        completions = generate_protocol_recommendations(patient_info, egfr)\n",
    "        \n",
    "        # Store results\n",
    "        results.append({\n",
    "            'Study_ID': row['Study ID #'],\n",
    "            'Priority': completions['priority'],\n",
    "            'Protocol': completions['protocol'],\n",
    "            'IV_Contrast': completions['iv_contrast'],\n",
    "            'Oral_Contrast': completions['oral_contrast']\n",
    "        })\n",
    "        \n",
    "    except Exception as e:\n",
    "        print(f\"\\nError processing row {idx}: {str(e)}\")\n",
    "        results.append({\n",
    "            'Study_ID': row['Study ID #'],\n",
    "            'Priority': None,\n",
    "            'Protocol': None,\n",
    "            'IV_Contrast': None,\n",
    "            'Oral_Contrast': None\n",
    "        })\n",
    "\n",
    "# Convert results to DataFrame\n",
    "results_df = pd.DataFrame(results)\n",
    "\n",
    "# Remove any columns that are unnamed (like \"Unnamed: 0\")\n",
    "results_df = results_df.loc[:, ~results_df.columns.str.contains('^Unnamed')]\n",
    "\n",
    "# Reset the index to start from 1 instead of 0\n",
    "results_df.index = results_df.index + 1\n",
    "\n",
    "print(\"\\nResults:\")\n",
    "print(results_df[['Priority', 'Protocol', 'IV_Contrast', 'Oral_Contrast']])"
   ]
  },
  {
   "cell_type": "markdown",
   "metadata": {},
   "source": []
  },
  {
   "cell_type": "code",
   "execution_count": 5,
   "metadata": {},
   "outputs": [
    {
     "name": "stdout",
     "output_type": "stream",
     "text": [
      "   Priority      Protocol IV_Contrast        Oral_Contrast\n",
      "1         3  Enterography          C+  Other (3% sorbitol)\n",
      "2         2           A/P          C+           Water base\n",
      "3         4        Pelvis          C+                 None\n",
      "4         1           A/P          C+                 None\n",
      "5         3      Liver 3P   C+ and C-                 None\n"
     ]
    }
   ],
   "source": [
    "pd.set_option('display.max_rows', 300)\n",
    "print(results_df[['Priority', 'Protocol', 'IV_Contrast', 'Oral_Contrast']])\n"
   ]
  }
 ],
 "metadata": {
  "kernelspec": {
   "display_name": "venv",
   "language": "python",
   "name": "python3"
  },
  "language_info": {
   "codemirror_mode": {
    "name": "ipython",
    "version": 3
   },
   "file_extension": ".py",
   "mimetype": "text/x-python",
   "name": "python",
   "nbconvert_exporter": "python",
   "pygments_lexer": "ipython3",
   "version": "3.13.1"
  }
 },
 "nbformat": 4,
 "nbformat_minor": 2
}
